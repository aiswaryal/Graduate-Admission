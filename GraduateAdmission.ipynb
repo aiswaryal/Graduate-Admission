{
  "nbformat": 4,
  "nbformat_minor": 0,
  "metadata": {
    "colab": {
      "name": "GraduateAdmission.ipynb",
      "provenance": [],
      "collapsed_sections": [],
      "authorship_tag": "ABX9TyOIIaJ0+agGRB6eKPkCqlba",
      "include_colab_link": true
    },
    "kernelspec": {
      "name": "python3",
      "display_name": "Python 3"
    },
    "accelerator": "GPU"
  },
  "cells": [
    {
      "cell_type": "markdown",
      "metadata": {
        "id": "view-in-github",
        "colab_type": "text"
      },
      "source": [
        "<a href=\"https://colab.research.google.com/github/aiswaryal/Graduate-Admission/blob/main/GraduateAdmission.ipynb\" target=\"_parent\"><img src=\"https://colab.research.google.com/assets/colab-badge.svg\" alt=\"Open In Colab\"/></a>"
      ]
    },
    {
      "cell_type": "code",
      "metadata": {
        "id": "GNaMTR5Y9D2s"
      },
      "source": [
        "import pandas as pd\r\n",
        "import seaborn as sns\r\n",
        "import matplotlib.pyplot as plt"
      ],
      "execution_count": null,
      "outputs": []
    },
    {
      "cell_type": "code",
      "metadata": {
        "colab": {
          "resources": {
            "http://localhost:8080/nbextensions/google.colab/files.js": {
              "data": "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",
              "ok": true,
              "headers": [
                [
                  "content-type",
                  "application/javascript"
                ]
              ],
              "status": 200,
              "status_text": ""
            }
          },
          "base_uri": "https://localhost:8080/",
          "height": 110
        },
        "id": "m67XZ59HEjZo",
        "outputId": "bcf54b40-e12a-4a08-c2a6-f69af5521fa2"
      },
      "source": [
        "from google.colab import files\r\n",
        "files.upload()"
      ],
      "execution_count": null,
      "outputs": [
        {
          "output_type": "display_data",
          "data": {
            "text/html": [
              "\n",
              "     <input type=\"file\" id=\"files-49d740df-735b-4a45-b136-662db46a9a92\" name=\"files[]\" multiple disabled\n",
              "        style=\"border:none\" />\n",
              "     <output id=\"result-49d740df-735b-4a45-b136-662db46a9a92\">\n",
              "      Upload widget is only available when the cell has been executed in the\n",
              "      current browser session. Please rerun this cell to enable.\n",
              "      </output>\n",
              "      <script src=\"/nbextensions/google.colab/files.js\"></script> "
            ],
            "text/plain": [
              "<IPython.core.display.HTML object>"
            ]
          },
          "metadata": {
            "tags": []
          }
        },
        {
          "output_type": "stream",
          "text": [
            "Saving Admission_Predict_Ver1.1.csv to Admission_Predict_Ver1.1 (3).csv\n"
          ],
          "name": "stdout"
        },
        {
          "output_type": "execute_result",
          "data": {
            "text/plain": [
              "{'Admission_Predict_Ver1.1.csv': b'Serial No.,GRE Score,TOEFL Score,University Rating,SOP,LOR ,CGPA,Research,Chance of Admit \\r\\n1,337,118,4,4.5,4.5,9.65,1,0.92\\r\\n2,324,107,4,4,4.5,8.87,1,0.76\\r\\n3,316,104,3,3,3.5,8,1,0.72\\r\\n4,322,110,3,3.5,2.5,8.67,1,0.8\\r\\n5,314,103,2,2,3,8.21,0,0.65\\r\\n6,330,115,5,4.5,3,9.34,1,0.9\\r\\n7,321,109,3,3,4,8.2,1,0.75\\r\\n8,308,101,2,3,4,7.9,0,0.68\\r\\n9,302,102,1,2,1.5,8,0,0.5\\r\\n10,323,108,3,3.5,3,8.6,0,0.45\\r\\n11,325,106,3,3.5,4,8.4,1,0.52\\r\\n12,327,111,4,4,4.5,9,1,0.84\\r\\n13,328,112,4,4,4.5,9.1,1,0.78\\r\\n14,307,109,3,4,3,8,1,0.62\\r\\n15,311,104,3,3.5,2,8.2,1,0.61\\r\\n16,314,105,3,3.5,2.5,8.3,0,0.54\\r\\n17,317,107,3,4,3,8.7,0,0.66\\r\\n18,319,106,3,4,3,8,1,0.65\\r\\n19,318,110,3,4,3,8.8,0,0.63\\r\\n20,303,102,3,3.5,3,8.5,0,0.62\\r\\n21,312,107,3,3,2,7.9,1,0.64\\r\\n22,325,114,4,3,2,8.4,0,0.7\\r\\n23,328,116,5,5,5,9.5,1,0.94\\r\\n24,334,119,5,5,4.5,9.7,1,0.95\\r\\n25,336,119,5,4,3.5,9.8,1,0.97\\r\\n26,340,120,5,4.5,4.5,9.6,1,0.94\\r\\n27,322,109,5,4.5,3.5,8.8,0,0.76\\r\\n28,298,98,2,1.5,2.5,7.5,1,0.44\\r\\n29,295,93,1,2,2,7.2,0,0.46\\r\\n30,310,99,2,1.5,2,7.3,0,0.54\\r\\n31,300,97,2,3,3,8.1,1,0.65\\r\\n32,327,103,3,4,4,8.3,1,0.74\\r\\n33,338,118,4,3,4.5,9.4,1,0.91\\r\\n34,340,114,5,4,4,9.6,1,0.9\\r\\n35,331,112,5,4,5,9.8,1,0.94\\r\\n36,320,110,5,5,5,9.2,1,0.88\\r\\n37,299,106,2,4,4,8.4,0,0.64\\r\\n38,300,105,1,1,2,7.8,0,0.58\\r\\n39,304,105,1,3,1.5,7.5,0,0.52\\r\\n40,307,108,2,4,3.5,7.7,0,0.48\\r\\n41,308,110,3,3.5,3,8,1,0.46\\r\\n42,316,105,2,2.5,2.5,8.2,1,0.49\\r\\n43,313,107,2,2.5,2,8.5,1,0.53\\r\\n44,332,117,4,4.5,4,9.1,0,0.87\\r\\n45,326,113,5,4.5,4,9.4,1,0.91\\r\\n46,322,110,5,5,4,9.1,1,0.88\\r\\n47,329,114,5,4,5,9.3,1,0.86\\r\\n48,339,119,5,4.5,4,9.7,0,0.89\\r\\n49,321,110,3,3.5,5,8.85,1,0.82\\r\\n50,327,111,4,3,4,8.4,1,0.78\\r\\n51,313,98,3,2.5,4.5,8.3,1,0.76\\r\\n52,312,100,2,1.5,3.5,7.9,1,0.56\\r\\n53,334,116,4,4,3,8,1,0.78\\r\\n54,324,112,4,4,2.5,8.1,1,0.72\\r\\n55,322,110,3,3,3.5,8,0,0.7\\r\\n56,320,103,3,3,3,7.7,0,0.64\\r\\n57,316,102,3,2,3,7.4,0,0.64\\r\\n58,298,99,2,4,2,7.6,0,0.46\\r\\n59,300,99,1,3,2,6.8,1,0.36\\r\\n60,311,104,2,2,2,8.3,0,0.42\\r\\n61,309,100,2,3,3,8.1,0,0.48\\r\\n62,307,101,3,4,3,8.2,0,0.47\\r\\n63,304,105,2,3,3,8.2,1,0.54\\r\\n64,315,107,2,4,3,8.5,1,0.56\\r\\n65,325,111,3,3,3.5,8.7,0,0.52\\r\\n66,325,112,4,3.5,3.5,8.92,0,0.55\\r\\n67,327,114,3,3,3,9.02,0,0.61\\r\\n68,316,107,2,3.5,3.5,8.64,1,0.57\\r\\n69,318,109,3,3.5,4,9.22,1,0.68\\r\\n70,328,115,4,4.5,4,9.16,1,0.78\\r\\n71,332,118,5,5,5,9.64,1,0.94\\r\\n72,336,112,5,5,5,9.76,1,0.96\\r\\n73,321,111,5,5,5,9.45,1,0.93\\r\\n74,314,108,4,4.5,4,9.04,1,0.84\\r\\n75,314,106,3,3,5,8.9,0,0.74\\r\\n76,329,114,2,2,4,8.56,1,0.72\\r\\n77,327,112,3,3,3,8.72,1,0.74\\r\\n78,301,99,2,3,2,8.22,0,0.64\\r\\n79,296,95,2,3,2,7.54,1,0.44\\r\\n80,294,93,1,1.5,2,7.36,0,0.46\\r\\n81,312,105,3,2,3,8.02,1,0.5\\r\\n82,340,120,4,5,5,9.5,1,0.96\\r\\n83,320,110,5,5,4.5,9.22,1,0.92\\r\\n84,322,115,5,4,4.5,9.36,1,0.92\\r\\n85,340,115,5,4.5,4.5,9.45,1,0.94\\r\\n86,319,103,4,4.5,3.5,8.66,0,0.76\\r\\n87,315,106,3,4.5,3.5,8.42,0,0.72\\r\\n88,317,107,2,3.5,3,8.28,0,0.66\\r\\n89,314,108,3,4.5,3.5,8.14,0,0.64\\r\\n90,316,109,4,4.5,3.5,8.76,1,0.74\\r\\n91,318,106,2,4,4,7.92,1,0.64\\r\\n92,299,97,3,5,3.5,7.66,0,0.38\\r\\n93,298,98,2,4,3,8.03,0,0.34\\r\\n94,301,97,2,3,3,7.88,1,0.44\\r\\n95,303,99,3,2,2.5,7.66,0,0.36\\r\\n96,304,100,4,1.5,2.5,7.84,0,0.42\\r\\n97,306,100,2,3,3,8,0,0.48\\r\\n98,331,120,3,4,4,8.96,1,0.86\\r\\n99,332,119,4,5,4.5,9.24,1,0.9\\r\\n100,323,113,3,4,4,8.88,1,0.79\\r\\n101,322,107,3,3.5,3.5,8.46,1,0.71\\r\\n102,312,105,2,2.5,3,8.12,0,0.64\\r\\n103,314,106,2,4,3.5,8.25,0,0.62\\r\\n104,317,104,2,4.5,4,8.47,0,0.57\\r\\n105,326,112,3,3.5,3,9.05,1,0.74\\r\\n106,316,110,3,4,4.5,8.78,1,0.69\\r\\n107,329,111,4,4.5,4.5,9.18,1,0.87\\r\\n108,338,117,4,3.5,4.5,9.46,1,0.91\\r\\n109,331,116,5,5,5,9.38,1,0.93\\r\\n110,304,103,5,5,4,8.64,0,0.68\\r\\n111,305,108,5,3,3,8.48,0,0.61\\r\\n112,321,109,4,4,4,8.68,1,0.69\\r\\n113,301,107,3,3.5,3.5,8.34,1,0.62\\r\\n114,320,110,2,4,3.5,8.56,0,0.72\\r\\n115,311,105,3,3.5,3,8.45,1,0.59\\r\\n116,310,106,4,4.5,4.5,9.04,1,0.66\\r\\n117,299,102,3,4,3.5,8.62,0,0.56\\r\\n118,290,104,4,2,2.5,7.46,0,0.45\\r\\n119,296,99,2,3,3.5,7.28,0,0.47\\r\\n120,327,104,5,3,3.5,8.84,1,0.71\\r\\n121,335,117,5,5,5,9.56,1,0.94\\r\\n122,334,119,5,4.5,4.5,9.48,1,0.94\\r\\n123,310,106,4,1.5,2.5,8.36,0,0.57\\r\\n124,308,108,3,3.5,3.5,8.22,0,0.61\\r\\n125,301,106,4,2.5,3,8.47,0,0.57\\r\\n126,300,100,3,2,3,8.66,1,0.64\\r\\n127,323,113,3,4,3,9.32,1,0.85\\r\\n128,319,112,3,2.5,2,8.71,1,0.78\\r\\n129,326,112,3,3.5,3,9.1,1,0.84\\r\\n130,333,118,5,5,5,9.35,1,0.92\\r\\n131,339,114,5,4,4.5,9.76,1,0.96\\r\\n132,303,105,5,5,4.5,8.65,0,0.77\\r\\n133,309,105,5,3.5,3.5,8.56,0,0.71\\r\\n134,323,112,5,4,4.5,8.78,0,0.79\\r\\n135,333,113,5,4,4,9.28,1,0.89\\r\\n136,314,109,4,3.5,4,8.77,1,0.82\\r\\n137,312,103,3,5,4,8.45,0,0.76\\r\\n138,316,100,2,1.5,3,8.16,1,0.71\\r\\n139,326,116,2,4.5,3,9.08,1,0.8\\r\\n140,318,109,1,3.5,3.5,9.12,0,0.78\\r\\n141,329,110,2,4,3,9.15,1,0.84\\r\\n142,332,118,2,4.5,3.5,9.36,1,0.9\\r\\n143,331,115,5,4,3.5,9.44,1,0.92\\r\\n144,340,120,4,4.5,4,9.92,1,0.97\\r\\n145,325,112,2,3,3.5,8.96,1,0.8\\r\\n146,320,113,2,2,2.5,8.64,1,0.81\\r\\n147,315,105,3,2,2.5,8.48,0,0.75\\r\\n148,326,114,3,3,3,9.11,1,0.83\\r\\n149,339,116,4,4,3.5,9.8,1,0.96\\r\\n150,311,106,2,3.5,3,8.26,1,0.79\\r\\n151,334,114,4,4,4,9.43,1,0.93\\r\\n152,332,116,5,5,5,9.28,1,0.94\\r\\n153,321,112,5,5,5,9.06,1,0.86\\r\\n154,324,105,3,3,4,8.75,0,0.79\\r\\n155,326,108,3,3,3.5,8.89,0,0.8\\r\\n156,312,109,3,3,3,8.69,0,0.77\\r\\n157,315,105,3,2,2.5,8.34,0,0.7\\r\\n158,309,104,2,2,2.5,8.26,0,0.65\\r\\n159,306,106,2,2,2.5,8.14,0,0.61\\r\\n160,297,100,1,1.5,2,7.9,0,0.52\\r\\n161,315,103,1,1.5,2,7.86,0,0.57\\r\\n162,298,99,1,1.5,3,7.46,0,0.53\\r\\n163,318,109,3,3,3,8.5,0,0.67\\r\\n164,317,105,3,3.5,3,8.56,0,0.68\\r\\n165,329,111,4,4.5,4,9.01,1,0.81\\r\\n166,322,110,5,4.5,4,8.97,0,0.78\\r\\n167,302,102,3,3.5,5,8.33,0,0.65\\r\\n168,313,102,3,2,3,8.27,0,0.64\\r\\n169,293,97,2,2,4,7.8,1,0.64\\r\\n170,311,99,2,2.5,3,7.98,0,0.65\\r\\n171,312,101,2,2.5,3.5,8.04,1,0.68\\r\\n172,334,117,5,4,4.5,9.07,1,0.89\\r\\n173,322,110,4,4,5,9.13,1,0.86\\r\\n174,323,113,4,4,4.5,9.23,1,0.89\\r\\n175,321,111,4,4,4,8.97,1,0.87\\r\\n176,320,111,4,4.5,3.5,8.87,1,0.85\\r\\n177,329,119,4,4.5,4.5,9.16,1,0.9\\r\\n178,319,110,3,3.5,3.5,9.04,0,0.82\\r\\n179,309,108,3,2.5,3,8.12,0,0.72\\r\\n180,307,102,3,3,3,8.27,0,0.73\\r\\n181,300,104,3,3.5,3,8.16,0,0.71\\r\\n182,305,107,2,2.5,2.5,8.42,0,0.71\\r\\n183,299,100,2,3,3.5,7.88,0,0.68\\r\\n184,314,110,3,4,4,8.8,0,0.75\\r\\n185,316,106,2,2.5,4,8.32,0,0.72\\r\\n186,327,113,4,4.5,4.5,9.11,1,0.89\\r\\n187,317,107,3,3.5,3,8.68,1,0.84\\r\\n188,335,118,5,4.5,3.5,9.44,1,0.93\\r\\n189,331,115,5,4.5,3.5,9.36,1,0.93\\r\\n190,324,112,5,5,5,9.08,1,0.88\\r\\n191,324,111,5,4.5,4,9.16,1,0.9\\r\\n192,323,110,5,4,5,8.98,1,0.87\\r\\n193,322,114,5,4.5,4,8.94,1,0.86\\r\\n194,336,118,5,4.5,5,9.53,1,0.94\\r\\n195,316,109,3,3.5,3,8.76,0,0.77\\r\\n196,307,107,2,3,3.5,8.52,1,0.78\\r\\n197,306,105,2,3,2.5,8.26,0,0.73\\r\\n198,310,106,2,3.5,2.5,8.33,0,0.73\\r\\n199,311,104,3,4.5,4.5,8.43,0,0.7\\r\\n200,313,107,3,4,4.5,8.69,0,0.72\\r\\n201,317,103,3,2.5,3,8.54,1,0.73\\r\\n202,315,110,2,3.5,3,8.46,1,0.72\\r\\n203,340,120,5,4.5,4.5,9.91,1,0.97\\r\\n204,334,120,5,4,5,9.87,1,0.97\\r\\n205,298,105,3,3.5,4,8.54,0,0.69\\r\\n206,295,99,2,2.5,3,7.65,0,0.57\\r\\n207,315,99,2,3.5,3,7.89,0,0.63\\r\\n208,310,102,3,3.5,4,8.02,1,0.66\\r\\n209,305,106,2,3,3,8.16,0,0.64\\r\\n210,301,104,3,3.5,4,8.12,1,0.68\\r\\n211,325,108,4,4.5,4,9.06,1,0.79\\r\\n212,328,110,4,5,4,9.14,1,0.82\\r\\n213,338,120,4,5,5,9.66,1,0.95\\r\\n214,333,119,5,5,4.5,9.78,1,0.96\\r\\n215,331,117,4,4.5,5,9.42,1,0.94\\r\\n216,330,116,5,5,4.5,9.36,1,0.93\\r\\n217,322,112,4,4.5,4.5,9.26,1,0.91\\r\\n218,321,109,4,4,4,9.13,1,0.85\\r\\n219,324,110,4,3,3.5,8.97,1,0.84\\r\\n220,312,104,3,3.5,3.5,8.42,0,0.74\\r\\n221,313,103,3,4,4,8.75,0,0.76\\r\\n222,316,110,3,3.5,4,8.56,0,0.75\\r\\n223,324,113,4,4.5,4,8.79,0,0.76\\r\\n224,308,109,2,3,4,8.45,0,0.71\\r\\n225,305,105,2,3,2,8.23,0,0.67\\r\\n226,296,99,2,2.5,2.5,8.03,0,0.61\\r\\n227,306,110,2,3.5,4,8.45,0,0.63\\r\\n228,312,110,2,3.5,3,8.53,0,0.64\\r\\n229,318,112,3,4,3.5,8.67,0,0.71\\r\\n230,324,111,4,3,3,9.01,1,0.82\\r\\n231,313,104,3,4,4.5,8.65,0,0.73\\r\\n232,319,106,3,3.5,2.5,8.33,1,0.74\\r\\n233,312,107,2,2.5,3.5,8.27,0,0.69\\r\\n234,304,100,2,2.5,3.5,8.07,0,0.64\\r\\n235,330,113,5,5,4,9.31,1,0.91\\r\\n236,326,111,5,4.5,4,9.23,1,0.88\\r\\n237,325,112,4,4,4.5,9.17,1,0.85\\r\\n238,329,114,5,4.5,5,9.19,1,0.86\\r\\n239,310,104,3,2,3.5,8.37,0,0.7\\r\\n240,299,100,1,1.5,2,7.89,0,0.59\\r\\n241,296,101,1,2.5,3,7.68,0,0.6\\r\\n242,317,103,2,2.5,2,8.15,0,0.65\\r\\n243,324,115,3,3.5,3,8.76,1,0.7\\r\\n244,325,114,3,3.5,3,9.04,1,0.76\\r\\n245,314,107,2,2.5,4,8.56,0,0.63\\r\\n246,328,110,4,4,2.5,9.02,1,0.81\\r\\n247,316,105,3,3,3.5,8.73,0,0.72\\r\\n248,311,104,2,2.5,3.5,8.48,0,0.71\\r\\n249,324,110,3,3.5,4,8.87,1,0.8\\r\\n250,321,111,3,3.5,4,8.83,1,0.77\\r\\n251,320,104,3,3,2.5,8.57,1,0.74\\r\\n252,316,99,2,2.5,3,9,0,0.7\\r\\n253,318,100,2,2.5,3.5,8.54,1,0.71\\r\\n254,335,115,4,4.5,4.5,9.68,1,0.93\\r\\n255,321,114,4,4,5,9.12,0,0.85\\r\\n256,307,110,4,4,4.5,8.37,0,0.79\\r\\n257,309,99,3,4,4,8.56,0,0.76\\r\\n258,324,100,3,4,5,8.64,1,0.78\\r\\n259,326,102,4,5,5,8.76,1,0.77\\r\\n260,331,119,4,5,4.5,9.34,1,0.9\\r\\n261,327,108,5,5,3.5,9.13,1,0.87\\r\\n262,312,104,3,3.5,4,8.09,0,0.71\\r\\n263,308,103,2,2.5,4,8.36,1,0.7\\r\\n264,324,111,3,2.5,1.5,8.79,1,0.7\\r\\n265,325,110,2,3,2.5,8.76,1,0.75\\r\\n266,313,102,3,2.5,2.5,8.68,0,0.71\\r\\n267,312,105,2,2,2.5,8.45,0,0.72\\r\\n268,314,107,3,3,3.5,8.17,1,0.73\\r\\n269,327,113,4,4.5,5,9.14,0,0.83\\r\\n270,308,108,4,4.5,5,8.34,0,0.77\\r\\n271,306,105,2,2.5,3,8.22,1,0.72\\r\\n272,299,96,2,1.5,2,7.86,0,0.54\\r\\n273,294,95,1,1.5,1.5,7.64,0,0.49\\r\\n274,312,99,1,1,1.5,8.01,1,0.52\\r\\n275,315,100,1,2,2.5,7.95,0,0.58\\r\\n276,322,110,3,3.5,3,8.96,1,0.78\\r\\n277,329,113,5,5,4.5,9.45,1,0.89\\r\\n278,320,101,2,2.5,3,8.62,0,0.7\\r\\n279,308,103,2,3,3.5,8.49,0,0.66\\r\\n280,304,102,2,3,4,8.73,0,0.67\\r\\n281,311,102,3,4.5,4,8.64,1,0.68\\r\\n282,317,110,3,4,4.5,9.11,1,0.8\\r\\n283,312,106,3,4,3.5,8.79,1,0.81\\r\\n284,321,111,3,2.5,3,8.9,1,0.8\\r\\n285,340,112,4,5,4.5,9.66,1,0.94\\r\\n286,331,116,5,4,4,9.26,1,0.93\\r\\n287,336,118,5,4.5,4,9.19,1,0.92\\r\\n288,324,114,5,5,4.5,9.08,1,0.89\\r\\n289,314,104,4,5,5,9.02,0,0.82\\r\\n290,313,109,3,4,3.5,9,0,0.79\\r\\n291,307,105,2,2.5,3,7.65,0,0.58\\r\\n292,300,102,2,1.5,2,7.87,0,0.56\\r\\n293,302,99,2,1,2,7.97,0,0.56\\r\\n294,312,98,1,3.5,3,8.18,1,0.64\\r\\n295,316,101,2,2.5,2,8.32,1,0.61\\r\\n296,317,100,2,3,2.5,8.57,0,0.68\\r\\n297,310,107,3,3.5,3.5,8.67,0,0.76\\r\\n298,320,120,3,4,4.5,9.11,0,0.86\\r\\n299,330,114,3,4.5,4.5,9.24,1,0.9\\r\\n300,305,112,3,3,3.5,8.65,0,0.71\\r\\n301,309,106,2,2.5,2.5,8,0,0.62\\r\\n302,319,108,2,2.5,3,8.76,0,0.66\\r\\n303,322,105,2,3,3,8.45,1,0.65\\r\\n304,323,107,3,3.5,3.5,8.55,1,0.73\\r\\n305,313,106,2,2.5,2,8.43,0,0.62\\r\\n306,321,109,3,3.5,3.5,8.8,1,0.74\\r\\n307,323,110,3,4,3.5,9.1,1,0.79\\r\\n308,325,112,4,4,4,9,1,0.8\\r\\n309,312,108,3,3.5,3,8.53,0,0.69\\r\\n310,308,110,4,3.5,3,8.6,0,0.7\\r\\n311,320,104,3,3,3.5,8.74,1,0.76\\r\\n312,328,108,4,4.5,4,9.18,1,0.84\\r\\n313,311,107,4,4.5,4.5,9,1,0.78\\r\\n314,301,100,3,3.5,3,8.04,0,0.67\\r\\n315,305,105,2,3,4,8.13,0,0.66\\r\\n316,308,104,2,2.5,3,8.07,0,0.65\\r\\n317,298,101,2,1.5,2,7.86,0,0.54\\r\\n318,300,99,1,1,2.5,8.01,0,0.58\\r\\n319,324,111,3,2.5,2,8.8,1,0.79\\r\\n320,327,113,4,3.5,3,8.69,1,0.8\\r\\n321,317,106,3,4,3.5,8.5,1,0.75\\r\\n322,323,104,3,4,4,8.44,1,0.73\\r\\n323,314,107,2,2.5,4,8.27,0,0.72\\r\\n324,305,102,2,2,2.5,8.18,0,0.62\\r\\n325,315,104,3,3,2.5,8.33,0,0.67\\r\\n326,326,116,3,3.5,4,9.14,1,0.81\\r\\n327,299,100,3,2,2,8.02,0,0.63\\r\\n328,295,101,2,2.5,2,7.86,0,0.69\\r\\n329,324,112,4,4,3.5,8.77,1,0.8\\r\\n330,297,96,2,2.5,1.5,7.89,0,0.43\\r\\n331,327,113,3,3.5,3,8.66,1,0.8\\r\\n332,311,105,2,3,2,8.12,1,0.73\\r\\n333,308,106,3,3.5,2.5,8.21,1,0.75\\r\\n334,319,108,3,3,3.5,8.54,1,0.71\\r\\n335,312,107,4,4.5,4,8.65,1,0.73\\r\\n336,325,111,4,4,4.5,9.11,1,0.83\\r\\n337,319,110,3,3,2.5,8.79,0,0.72\\r\\n338,332,118,5,5,5,9.47,1,0.94\\r\\n339,323,108,5,4,4,8.74,1,0.81\\r\\n340,324,107,5,3.5,4,8.66,1,0.81\\r\\n341,312,107,3,3,3,8.46,1,0.75\\r\\n342,326,110,3,3.5,3.5,8.76,1,0.79\\r\\n343,308,106,3,3,3,8.24,0,0.58\\r\\n344,305,103,2,2.5,3.5,8.13,0,0.59\\r\\n345,295,96,2,1.5,2,7.34,0,0.47\\r\\n346,316,98,1,1.5,2,7.43,0,0.49\\r\\n347,304,97,2,1.5,2,7.64,0,0.47\\r\\n348,299,94,1,1,1,7.34,0,0.42\\r\\n349,302,99,1,2,2,7.25,0,0.57\\r\\n350,313,101,3,2.5,3,8.04,0,0.62\\r\\n351,318,107,3,3,3.5,8.27,1,0.74\\r\\n352,325,110,4,3.5,4,8.67,1,0.73\\r\\n353,303,100,2,3,3.5,8.06,1,0.64\\r\\n354,300,102,3,3.5,2.5,8.17,0,0.63\\r\\n355,297,98,2,2.5,3,7.67,0,0.59\\r\\n356,317,106,2,2,3.5,8.12,0,0.73\\r\\n357,327,109,3,3.5,4,8.77,1,0.79\\r\\n358,301,104,2,3.5,3.5,7.89,1,0.68\\r\\n359,314,105,2,2.5,2,7.64,0,0.7\\r\\n360,321,107,2,2,1.5,8.44,0,0.81\\r\\n361,322,110,3,4,5,8.64,1,0.85\\r\\n362,334,116,4,4,3.5,9.54,1,0.93\\r\\n363,338,115,5,4.5,5,9.23,1,0.91\\r\\n364,306,103,2,2.5,3,8.36,0,0.69\\r\\n365,313,102,3,3.5,4,8.9,1,0.77\\r\\n366,330,114,4,4.5,3,9.17,1,0.86\\r\\n367,320,104,3,3.5,4.5,8.34,1,0.74\\r\\n368,311,98,1,1,2.5,7.46,0,0.57\\r\\n369,298,92,1,2,2,7.88,0,0.51\\r\\n370,301,98,1,2,3,8.03,1,0.67\\r\\n371,310,103,2,2.5,2.5,8.24,0,0.72\\r\\n372,324,110,3,3.5,3,9.22,1,0.89\\r\\n373,336,119,4,4.5,4,9.62,1,0.95\\r\\n374,321,109,3,3,3,8.54,1,0.79\\r\\n375,315,105,2,2,2.5,7.65,0,0.39\\r\\n376,304,101,2,2,2.5,7.66,0,0.38\\r\\n377,297,96,2,2.5,2,7.43,0,0.34\\r\\n378,290,100,1,1.5,2,7.56,0,0.47\\r\\n379,303,98,1,2,2.5,7.65,0,0.56\\r\\n380,311,99,1,2.5,3,8.43,1,0.71\\r\\n381,322,104,3,3.5,4,8.84,1,0.78\\r\\n382,319,105,3,3,3.5,8.67,1,0.73\\r\\n383,324,110,4,4.5,4,9.15,1,0.82\\r\\n384,300,100,3,3,3.5,8.26,0,0.62\\r\\n385,340,113,4,5,5,9.74,1,0.96\\r\\n386,335,117,5,5,5,9.82,1,0.96\\r\\n387,302,101,2,2.5,3.5,7.96,0,0.46\\r\\n388,307,105,2,2,3.5,8.1,0,0.53\\r\\n389,296,97,2,1.5,2,7.8,0,0.49\\r\\n390,320,108,3,3.5,4,8.44,1,0.76\\r\\n391,314,102,2,2,2.5,8.24,0,0.64\\r\\n392,318,106,3,2,3,8.65,0,0.71\\r\\n393,326,112,4,4,3.5,9.12,1,0.84\\r\\n394,317,104,2,3,3,8.76,0,0.77\\r\\n395,329,111,4,4.5,4,9.23,1,0.89\\r\\n396,324,110,3,3.5,3.5,9.04,1,0.82\\r\\n397,325,107,3,3,3.5,9.11,1,0.84\\r\\n398,330,116,4,5,4.5,9.45,1,0.91\\r\\n399,312,103,3,3.5,4,8.78,0,0.67\\r\\n400,333,117,4,5,4,9.66,1,0.95\\r\\n401,304,100,2,3.5,3,8.22,0,0.63\\r\\n402,315,105,2,3,3,8.34,0,0.66\\r\\n403,324,109,3,3.5,3,8.94,1,0.78\\r\\n404,330,116,4,4,3.5,9.23,1,0.91\\r\\n405,311,101,3,2,2.5,7.64,1,0.62\\r\\n406,302,99,3,2.5,3,7.45,0,0.52\\r\\n407,322,103,4,3,2.5,8.02,1,0.61\\r\\n408,298,100,3,2.5,4,7.95,1,0.58\\r\\n409,297,101,3,2,4,7.67,1,0.57\\r\\n410,300,98,1,2,2.5,8.02,0,0.61\\r\\n411,301,96,1,3,4,7.56,0,0.54\\r\\n412,313,94,2,2.5,1.5,8.13,0,0.56\\r\\n413,314,102,4,2.5,2,7.88,1,0.59\\r\\n414,317,101,3,3,2,7.94,1,0.49\\r\\n415,321,110,4,3.5,4,8.35,1,0.72\\r\\n416,327,106,4,4,4.5,8.75,1,0.76\\r\\n417,315,104,3,4,2.5,8.1,0,0.65\\r\\n418,316,103,3,3.5,2,7.68,0,0.52\\r\\n419,309,111,2,2.5,4,8.03,0,0.6\\r\\n420,308,102,2,2,3.5,7.98,1,0.58\\r\\n421,299,100,3,2,3,7.42,0,0.42\\r\\n422,321,112,3,3,4.5,8.95,1,0.77\\r\\n423,322,112,4,3.5,2.5,9.02,1,0.73\\r\\n424,334,119,5,4.5,5,9.54,1,0.94\\r\\n425,325,114,5,4,5,9.46,1,0.91\\r\\n426,323,111,5,4,5,9.86,1,0.92\\r\\n427,312,106,3,3,5,8.57,0,0.71\\r\\n428,310,101,3,3.5,5,8.65,1,0.71\\r\\n429,316,103,2,2,4.5,8.74,0,0.69\\r\\n430,340,115,5,5,4.5,9.06,1,0.95\\r\\n431,311,104,3,4,3.5,8.13,1,0.74\\r\\n432,320,112,2,3.5,3.5,8.78,1,0.73\\r\\n433,324,112,4,4.5,4,9.22,1,0.86\\r\\n434,316,111,4,4,5,8.54,0,0.71\\r\\n435,306,103,3,3.5,3,8.21,0,0.64\\r\\n436,309,105,2,2.5,4,7.68,0,0.55\\r\\n437,310,110,1,1.5,4,7.23,1,0.58\\r\\n438,317,106,1,1.5,3.5,7.65,1,0.61\\r\\n439,318,110,1,2.5,3.5,8.54,1,0.67\\r\\n440,312,105,2,1.5,3,8.46,0,0.66\\r\\n441,305,104,2,2.5,1.5,7.79,0,0.53\\r\\n442,332,112,1,1.5,3,8.66,1,0.79\\r\\n443,331,116,4,4.5,4.5,9.44,1,0.92\\r\\n444,321,114,5,4.5,4.5,9.16,1,0.87\\r\\n445,324,113,5,4,5,9.25,1,0.92\\r\\n446,328,116,5,4.5,5,9.08,1,0.91\\r\\n447,327,118,4,5,5,9.67,1,0.93\\r\\n448,320,108,3,3.5,5,8.97,1,0.84\\r\\n449,312,109,2,2.5,4,9.02,0,0.8\\r\\n450,315,101,3,3.5,4.5,9.13,0,0.79\\r\\n451,320,112,4,3,4.5,8.86,1,0.82\\r\\n452,324,113,4,4.5,4.5,9.25,1,0.89\\r\\n453,328,116,4,5,3.5,9.6,1,0.93\\r\\n454,319,103,3,2.5,4,8.76,1,0.73\\r\\n455,310,105,2,3,3.5,8.01,0,0.71\\r\\n456,305,102,2,1.5,2.5,7.64,0,0.59\\r\\n457,299,100,2,2,2,7.88,0,0.51\\r\\n458,295,99,1,2,1.5,7.57,0,0.37\\r\\n459,312,100,1,3,3,8.53,1,0.69\\r\\n460,329,113,4,4,3.5,9.36,1,0.89\\r\\n461,319,105,4,4,4.5,8.66,1,0.77\\r\\n462,301,102,3,2.5,2,8.13,1,0.68\\r\\n463,307,105,4,3,3,7.94,0,0.62\\r\\n464,304,107,3,3.5,3,7.86,0,0.57\\r\\n465,298,97,2,2,3,7.21,0,0.45\\r\\n466,305,96,4,3,4.5,8.26,0,0.54\\r\\n467,314,99,4,3.5,4.5,8.73,1,0.71\\r\\n468,318,101,5,3.5,5,8.78,1,0.78\\r\\n469,323,110,4,4,5,8.88,1,0.81\\r\\n470,326,114,4,4,3.5,9.16,1,0.86\\r\\n471,320,110,5,4,4,9.27,1,0.87\\r\\n472,311,103,3,2,4,8.09,0,0.64\\r\\n473,327,116,4,4,4.5,9.48,1,0.9\\r\\n474,316,102,2,4,3.5,8.15,0,0.67\\r\\n475,308,105,4,3,2.5,7.95,1,0.67\\r\\n476,300,101,3,3.5,2.5,7.88,0,0.59\\r\\n477,304,104,3,2.5,2,8.12,0,0.62\\r\\n478,309,105,4,3.5,2,8.18,0,0.65\\r\\n479,318,103,3,4,4.5,8.49,1,0.71\\r\\n480,325,110,4,4.5,4,8.96,1,0.79\\r\\n481,321,102,3,3.5,4,9.01,1,0.8\\r\\n482,323,107,4,3,2.5,8.48,1,0.78\\r\\n483,328,113,4,4,2.5,8.77,1,0.83\\r\\n484,304,103,5,5,3,7.92,0,0.71\\r\\n485,317,106,3,3.5,3,7.89,1,0.73\\r\\n486,311,101,2,2.5,3.5,8.34,1,0.7\\r\\n487,319,102,3,2.5,2.5,8.37,0,0.68\\r\\n488,327,115,4,3.5,4,9.14,0,0.79\\r\\n489,322,112,3,3,4,8.62,1,0.76\\r\\n490,302,110,3,4,4.5,8.5,0,0.65\\r\\n491,307,105,2,2.5,4.5,8.12,1,0.67\\r\\n492,297,99,4,3,3.5,7.81,0,0.54\\r\\n493,298,101,4,2.5,4.5,7.69,1,0.53\\r\\n494,300,95,2,3,1.5,8.22,1,0.62\\r\\n495,301,99,3,2.5,2,8.45,1,0.68\\r\\n496,332,108,5,4.5,4,9.02,1,0.87\\r\\n497,337,117,5,5,5,9.87,1,0.96\\r\\n498,330,120,5,4.5,5,9.56,1,0.93\\r\\n499,312,103,4,4,5,8.43,0,0.73\\r\\n500,327,113,4,4.5,4.5,9.04,0,0.84'}"
            ]
          },
          "metadata": {
            "tags": []
          },
          "execution_count": 2
        }
      ]
    },
    {
      "cell_type": "code",
      "metadata": {
        "id": "lizdDikY9lCP"
      },
      "source": [
        "df1 = pd.read_csv('Admission_Predict_Ver1.1.csv')"
      ],
      "execution_count": null,
      "outputs": []
    },
    {
      "cell_type": "code",
      "metadata": {
        "colab": {
          "base_uri": "https://localhost:8080/",
          "height": 195
        },
        "id": "-9duWvYd9vzb",
        "outputId": "54f426c4-da8a-4845-c72f-03a2257ff79e"
      },
      "source": [
        "df1.head()"
      ],
      "execution_count": null,
      "outputs": [
        {
          "output_type": "execute_result",
          "data": {
            "text/html": [
              "<div>\n",
              "<style scoped>\n",
              "    .dataframe tbody tr th:only-of-type {\n",
              "        vertical-align: middle;\n",
              "    }\n",
              "\n",
              "    .dataframe tbody tr th {\n",
              "        vertical-align: top;\n",
              "    }\n",
              "\n",
              "    .dataframe thead th {\n",
              "        text-align: right;\n",
              "    }\n",
              "</style>\n",
              "<table border=\"1\" class=\"dataframe\">\n",
              "  <thead>\n",
              "    <tr style=\"text-align: right;\">\n",
              "      <th></th>\n",
              "      <th>Serial No.</th>\n",
              "      <th>GRE Score</th>\n",
              "      <th>TOEFL Score</th>\n",
              "      <th>University Rating</th>\n",
              "      <th>SOP</th>\n",
              "      <th>LOR</th>\n",
              "      <th>CGPA</th>\n",
              "      <th>Research</th>\n",
              "      <th>Chance of Admit</th>\n",
              "    </tr>\n",
              "  </thead>\n",
              "  <tbody>\n",
              "    <tr>\n",
              "      <th>0</th>\n",
              "      <td>1</td>\n",
              "      <td>337</td>\n",
              "      <td>118</td>\n",
              "      <td>4</td>\n",
              "      <td>4.5</td>\n",
              "      <td>4.5</td>\n",
              "      <td>9.65</td>\n",
              "      <td>1</td>\n",
              "      <td>0.92</td>\n",
              "    </tr>\n",
              "    <tr>\n",
              "      <th>1</th>\n",
              "      <td>2</td>\n",
              "      <td>324</td>\n",
              "      <td>107</td>\n",
              "      <td>4</td>\n",
              "      <td>4.0</td>\n",
              "      <td>4.5</td>\n",
              "      <td>8.87</td>\n",
              "      <td>1</td>\n",
              "      <td>0.76</td>\n",
              "    </tr>\n",
              "    <tr>\n",
              "      <th>2</th>\n",
              "      <td>3</td>\n",
              "      <td>316</td>\n",
              "      <td>104</td>\n",
              "      <td>3</td>\n",
              "      <td>3.0</td>\n",
              "      <td>3.5</td>\n",
              "      <td>8.00</td>\n",
              "      <td>1</td>\n",
              "      <td>0.72</td>\n",
              "    </tr>\n",
              "    <tr>\n",
              "      <th>3</th>\n",
              "      <td>4</td>\n",
              "      <td>322</td>\n",
              "      <td>110</td>\n",
              "      <td>3</td>\n",
              "      <td>3.5</td>\n",
              "      <td>2.5</td>\n",
              "      <td>8.67</td>\n",
              "      <td>1</td>\n",
              "      <td>0.80</td>\n",
              "    </tr>\n",
              "    <tr>\n",
              "      <th>4</th>\n",
              "      <td>5</td>\n",
              "      <td>314</td>\n",
              "      <td>103</td>\n",
              "      <td>2</td>\n",
              "      <td>2.0</td>\n",
              "      <td>3.0</td>\n",
              "      <td>8.21</td>\n",
              "      <td>0</td>\n",
              "      <td>0.65</td>\n",
              "    </tr>\n",
              "  </tbody>\n",
              "</table>\n",
              "</div>"
            ],
            "text/plain": [
              "   Serial No.  GRE Score  TOEFL Score  ...  CGPA  Research  Chance of Admit \n",
              "0           1        337          118  ...  9.65         1              0.92\n",
              "1           2        324          107  ...  8.87         1              0.76\n",
              "2           3        316          104  ...  8.00         1              0.72\n",
              "3           4        322          110  ...  8.67         1              0.80\n",
              "4           5        314          103  ...  8.21         0              0.65\n",
              "\n",
              "[5 rows x 9 columns]"
            ]
          },
          "metadata": {
            "tags": []
          },
          "execution_count": 4
        }
      ]
    },
    {
      "cell_type": "code",
      "metadata": {
        "colab": {
          "base_uri": "https://localhost:8080/"
        },
        "id": "BErOC7LW9xcj",
        "outputId": "82c3047b-b5c2-4165-ba23-cdf6f13d91e0"
      },
      "source": [
        "df1.columns\r\n"
      ],
      "execution_count": null,
      "outputs": [
        {
          "output_type": "execute_result",
          "data": {
            "text/plain": [
              "Index(['Serial No.', 'GRE Score', 'TOEFL Score', 'University Rating', 'SOP',\n",
              "       'LOR ', 'CGPA', 'Research', 'Chance of Admit '],\n",
              "      dtype='object')"
            ]
          },
          "metadata": {
            "tags": []
          },
          "execution_count": 5
        }
      ]
    },
    {
      "cell_type": "code",
      "metadata": {
        "id": "v5S9z_Xc-AV4"
      },
      "source": [
        "df1.drop('Serial No.', axis = 1, inplace = True)"
      ],
      "execution_count": null,
      "outputs": []
    },
    {
      "cell_type": "code",
      "metadata": {
        "colab": {
          "base_uri": "https://localhost:8080/",
          "height": 106
        },
        "id": "B_HF_I58-FJp",
        "outputId": "c861117d-f718-49a7-9851-ad10738decc1"
      },
      "source": [
        "df1.head(2)"
      ],
      "execution_count": null,
      "outputs": [
        {
          "output_type": "execute_result",
          "data": {
            "text/html": [
              "<div>\n",
              "<style scoped>\n",
              "    .dataframe tbody tr th:only-of-type {\n",
              "        vertical-align: middle;\n",
              "    }\n",
              "\n",
              "    .dataframe tbody tr th {\n",
              "        vertical-align: top;\n",
              "    }\n",
              "\n",
              "    .dataframe thead th {\n",
              "        text-align: right;\n",
              "    }\n",
              "</style>\n",
              "<table border=\"1\" class=\"dataframe\">\n",
              "  <thead>\n",
              "    <tr style=\"text-align: right;\">\n",
              "      <th></th>\n",
              "      <th>GRE Score</th>\n",
              "      <th>TOEFL Score</th>\n",
              "      <th>University Rating</th>\n",
              "      <th>SOP</th>\n",
              "      <th>LOR</th>\n",
              "      <th>CGPA</th>\n",
              "      <th>Research</th>\n",
              "      <th>Chance of Admit</th>\n",
              "    </tr>\n",
              "  </thead>\n",
              "  <tbody>\n",
              "    <tr>\n",
              "      <th>0</th>\n",
              "      <td>337</td>\n",
              "      <td>118</td>\n",
              "      <td>4</td>\n",
              "      <td>4.5</td>\n",
              "      <td>4.5</td>\n",
              "      <td>9.65</td>\n",
              "      <td>1</td>\n",
              "      <td>0.92</td>\n",
              "    </tr>\n",
              "    <tr>\n",
              "      <th>1</th>\n",
              "      <td>324</td>\n",
              "      <td>107</td>\n",
              "      <td>4</td>\n",
              "      <td>4.0</td>\n",
              "      <td>4.5</td>\n",
              "      <td>8.87</td>\n",
              "      <td>1</td>\n",
              "      <td>0.76</td>\n",
              "    </tr>\n",
              "  </tbody>\n",
              "</table>\n",
              "</div>"
            ],
            "text/plain": [
              "   GRE Score  TOEFL Score  University Rating  ...  CGPA  Research  Chance of Admit \n",
              "0        337          118                  4  ...  9.65         1              0.92\n",
              "1        324          107                  4  ...  8.87         1              0.76\n",
              "\n",
              "[2 rows x 8 columns]"
            ]
          },
          "metadata": {
            "tags": []
          },
          "execution_count": 7
        }
      ]
    },
    {
      "cell_type": "markdown",
      "metadata": {
        "id": "Vc1KjzlT-W-H"
      },
      "source": [
        "Exploratory Data Analysis"
      ]
    },
    {
      "cell_type": "code",
      "metadata": {
        "colab": {
          "base_uri": "https://localhost:8080/",
          "height": 284
        },
        "id": "cjXESbBF-OuT",
        "outputId": "e3d2a790-6eb9-4b48-9e0d-e7b38567efa4"
      },
      "source": [
        "df1.describe()"
      ],
      "execution_count": null,
      "outputs": [
        {
          "output_type": "execute_result",
          "data": {
            "text/html": [
              "<div>\n",
              "<style scoped>\n",
              "    .dataframe tbody tr th:only-of-type {\n",
              "        vertical-align: middle;\n",
              "    }\n",
              "\n",
              "    .dataframe tbody tr th {\n",
              "        vertical-align: top;\n",
              "    }\n",
              "\n",
              "    .dataframe thead th {\n",
              "        text-align: right;\n",
              "    }\n",
              "</style>\n",
              "<table border=\"1\" class=\"dataframe\">\n",
              "  <thead>\n",
              "    <tr style=\"text-align: right;\">\n",
              "      <th></th>\n",
              "      <th>GRE Score</th>\n",
              "      <th>TOEFL Score</th>\n",
              "      <th>University Rating</th>\n",
              "      <th>SOP</th>\n",
              "      <th>LOR</th>\n",
              "      <th>CGPA</th>\n",
              "      <th>Research</th>\n",
              "      <th>Chance of Admit</th>\n",
              "    </tr>\n",
              "  </thead>\n",
              "  <tbody>\n",
              "    <tr>\n",
              "      <th>count</th>\n",
              "      <td>500.000000</td>\n",
              "      <td>500.000000</td>\n",
              "      <td>500.000000</td>\n",
              "      <td>500.000000</td>\n",
              "      <td>500.00000</td>\n",
              "      <td>500.000000</td>\n",
              "      <td>500.000000</td>\n",
              "      <td>500.00000</td>\n",
              "    </tr>\n",
              "    <tr>\n",
              "      <th>mean</th>\n",
              "      <td>316.472000</td>\n",
              "      <td>107.192000</td>\n",
              "      <td>3.114000</td>\n",
              "      <td>3.374000</td>\n",
              "      <td>3.48400</td>\n",
              "      <td>8.576440</td>\n",
              "      <td>0.560000</td>\n",
              "      <td>0.72174</td>\n",
              "    </tr>\n",
              "    <tr>\n",
              "      <th>std</th>\n",
              "      <td>11.295148</td>\n",
              "      <td>6.081868</td>\n",
              "      <td>1.143512</td>\n",
              "      <td>0.991004</td>\n",
              "      <td>0.92545</td>\n",
              "      <td>0.604813</td>\n",
              "      <td>0.496884</td>\n",
              "      <td>0.14114</td>\n",
              "    </tr>\n",
              "    <tr>\n",
              "      <th>min</th>\n",
              "      <td>290.000000</td>\n",
              "      <td>92.000000</td>\n",
              "      <td>1.000000</td>\n",
              "      <td>1.000000</td>\n",
              "      <td>1.00000</td>\n",
              "      <td>6.800000</td>\n",
              "      <td>0.000000</td>\n",
              "      <td>0.34000</td>\n",
              "    </tr>\n",
              "    <tr>\n",
              "      <th>25%</th>\n",
              "      <td>308.000000</td>\n",
              "      <td>103.000000</td>\n",
              "      <td>2.000000</td>\n",
              "      <td>2.500000</td>\n",
              "      <td>3.00000</td>\n",
              "      <td>8.127500</td>\n",
              "      <td>0.000000</td>\n",
              "      <td>0.63000</td>\n",
              "    </tr>\n",
              "    <tr>\n",
              "      <th>50%</th>\n",
              "      <td>317.000000</td>\n",
              "      <td>107.000000</td>\n",
              "      <td>3.000000</td>\n",
              "      <td>3.500000</td>\n",
              "      <td>3.50000</td>\n",
              "      <td>8.560000</td>\n",
              "      <td>1.000000</td>\n",
              "      <td>0.72000</td>\n",
              "    </tr>\n",
              "    <tr>\n",
              "      <th>75%</th>\n",
              "      <td>325.000000</td>\n",
              "      <td>112.000000</td>\n",
              "      <td>4.000000</td>\n",
              "      <td>4.000000</td>\n",
              "      <td>4.00000</td>\n",
              "      <td>9.040000</td>\n",
              "      <td>1.000000</td>\n",
              "      <td>0.82000</td>\n",
              "    </tr>\n",
              "    <tr>\n",
              "      <th>max</th>\n",
              "      <td>340.000000</td>\n",
              "      <td>120.000000</td>\n",
              "      <td>5.000000</td>\n",
              "      <td>5.000000</td>\n",
              "      <td>5.00000</td>\n",
              "      <td>9.920000</td>\n",
              "      <td>1.000000</td>\n",
              "      <td>0.97000</td>\n",
              "    </tr>\n",
              "  </tbody>\n",
              "</table>\n",
              "</div>"
            ],
            "text/plain": [
              "        GRE Score  TOEFL Score  ...    Research  Chance of Admit \n",
              "count  500.000000   500.000000  ...  500.000000         500.00000\n",
              "mean   316.472000   107.192000  ...    0.560000           0.72174\n",
              "std     11.295148     6.081868  ...    0.496884           0.14114\n",
              "min    290.000000    92.000000  ...    0.000000           0.34000\n",
              "25%    308.000000   103.000000  ...    0.000000           0.63000\n",
              "50%    317.000000   107.000000  ...    1.000000           0.72000\n",
              "75%    325.000000   112.000000  ...    1.000000           0.82000\n",
              "max    340.000000   120.000000  ...    1.000000           0.97000\n",
              "\n",
              "[8 rows x 8 columns]"
            ]
          },
          "metadata": {
            "tags": []
          },
          "execution_count": 8
        }
      ]
    },
    {
      "cell_type": "code",
      "metadata": {
        "colab": {
          "base_uri": "https://localhost:8080/",
          "height": 284
        },
        "id": "8_p9UDnP-dBv",
        "outputId": "f62bf305-df5b-447e-fedc-84dee607b335"
      },
      "source": [
        "df1.corr()"
      ],
      "execution_count": null,
      "outputs": [
        {
          "output_type": "execute_result",
          "data": {
            "text/html": [
              "<div>\n",
              "<style scoped>\n",
              "    .dataframe tbody tr th:only-of-type {\n",
              "        vertical-align: middle;\n",
              "    }\n",
              "\n",
              "    .dataframe tbody tr th {\n",
              "        vertical-align: top;\n",
              "    }\n",
              "\n",
              "    .dataframe thead th {\n",
              "        text-align: right;\n",
              "    }\n",
              "</style>\n",
              "<table border=\"1\" class=\"dataframe\">\n",
              "  <thead>\n",
              "    <tr style=\"text-align: right;\">\n",
              "      <th></th>\n",
              "      <th>GRE Score</th>\n",
              "      <th>TOEFL Score</th>\n",
              "      <th>University Rating</th>\n",
              "      <th>SOP</th>\n",
              "      <th>LOR</th>\n",
              "      <th>CGPA</th>\n",
              "      <th>Research</th>\n",
              "      <th>Chance of Admit</th>\n",
              "    </tr>\n",
              "  </thead>\n",
              "  <tbody>\n",
              "    <tr>\n",
              "      <th>GRE Score</th>\n",
              "      <td>1.000000</td>\n",
              "      <td>0.827200</td>\n",
              "      <td>0.635376</td>\n",
              "      <td>0.613498</td>\n",
              "      <td>0.524679</td>\n",
              "      <td>0.825878</td>\n",
              "      <td>0.563398</td>\n",
              "      <td>0.810351</td>\n",
              "    </tr>\n",
              "    <tr>\n",
              "      <th>TOEFL Score</th>\n",
              "      <td>0.827200</td>\n",
              "      <td>1.000000</td>\n",
              "      <td>0.649799</td>\n",
              "      <td>0.644410</td>\n",
              "      <td>0.541563</td>\n",
              "      <td>0.810574</td>\n",
              "      <td>0.467012</td>\n",
              "      <td>0.792228</td>\n",
              "    </tr>\n",
              "    <tr>\n",
              "      <th>University Rating</th>\n",
              "      <td>0.635376</td>\n",
              "      <td>0.649799</td>\n",
              "      <td>1.000000</td>\n",
              "      <td>0.728024</td>\n",
              "      <td>0.608651</td>\n",
              "      <td>0.705254</td>\n",
              "      <td>0.427047</td>\n",
              "      <td>0.690132</td>\n",
              "    </tr>\n",
              "    <tr>\n",
              "      <th>SOP</th>\n",
              "      <td>0.613498</td>\n",
              "      <td>0.644410</td>\n",
              "      <td>0.728024</td>\n",
              "      <td>1.000000</td>\n",
              "      <td>0.663707</td>\n",
              "      <td>0.712154</td>\n",
              "      <td>0.408116</td>\n",
              "      <td>0.684137</td>\n",
              "    </tr>\n",
              "    <tr>\n",
              "      <th>LOR</th>\n",
              "      <td>0.524679</td>\n",
              "      <td>0.541563</td>\n",
              "      <td>0.608651</td>\n",
              "      <td>0.663707</td>\n",
              "      <td>1.000000</td>\n",
              "      <td>0.637469</td>\n",
              "      <td>0.372526</td>\n",
              "      <td>0.645365</td>\n",
              "    </tr>\n",
              "    <tr>\n",
              "      <th>CGPA</th>\n",
              "      <td>0.825878</td>\n",
              "      <td>0.810574</td>\n",
              "      <td>0.705254</td>\n",
              "      <td>0.712154</td>\n",
              "      <td>0.637469</td>\n",
              "      <td>1.000000</td>\n",
              "      <td>0.501311</td>\n",
              "      <td>0.882413</td>\n",
              "    </tr>\n",
              "    <tr>\n",
              "      <th>Research</th>\n",
              "      <td>0.563398</td>\n",
              "      <td>0.467012</td>\n",
              "      <td>0.427047</td>\n",
              "      <td>0.408116</td>\n",
              "      <td>0.372526</td>\n",
              "      <td>0.501311</td>\n",
              "      <td>1.000000</td>\n",
              "      <td>0.545871</td>\n",
              "    </tr>\n",
              "    <tr>\n",
              "      <th>Chance of Admit</th>\n",
              "      <td>0.810351</td>\n",
              "      <td>0.792228</td>\n",
              "      <td>0.690132</td>\n",
              "      <td>0.684137</td>\n",
              "      <td>0.645365</td>\n",
              "      <td>0.882413</td>\n",
              "      <td>0.545871</td>\n",
              "      <td>1.000000</td>\n",
              "    </tr>\n",
              "  </tbody>\n",
              "</table>\n",
              "</div>"
            ],
            "text/plain": [
              "                   GRE Score  TOEFL Score  ...  Research  Chance of Admit \n",
              "GRE Score           1.000000     0.827200  ...  0.563398          0.810351\n",
              "TOEFL Score         0.827200     1.000000  ...  0.467012          0.792228\n",
              "University Rating   0.635376     0.649799  ...  0.427047          0.690132\n",
              "SOP                 0.613498     0.644410  ...  0.408116          0.684137\n",
              "LOR                 0.524679     0.541563  ...  0.372526          0.645365\n",
              "CGPA                0.825878     0.810574  ...  0.501311          0.882413\n",
              "Research            0.563398     0.467012  ...  1.000000          0.545871\n",
              "Chance of Admit     0.810351     0.792228  ...  0.545871          1.000000\n",
              "\n",
              "[8 rows x 8 columns]"
            ]
          },
          "metadata": {
            "tags": []
          },
          "execution_count": 9
        }
      ]
    },
    {
      "cell_type": "markdown",
      "metadata": {
        "id": "8YlUQJuc-3uM"
      },
      "source": [
        "from above we conclude that most important parameters for chance of admission are GRE Score, TOEFL Score and CGPA"
      ]
    },
    {
      "cell_type": "code",
      "metadata": {
        "colab": {
          "base_uri": "https://localhost:8080/",
          "height": 362
        },
        "id": "ynT-cW0I-rN_",
        "outputId": "932629fb-1c16-4989-9c0e-a72f70a60023"
      },
      "source": [
        "sns.heatmap(df1.corr(), annot = True)"
      ],
      "execution_count": null,
      "outputs": [
        {
          "output_type": "execute_result",
          "data": {
            "text/plain": [
              "<matplotlib.axes._subplots.AxesSubplot at 0x7f70397822e8>"
            ]
          },
          "metadata": {
            "tags": []
          },
          "execution_count": 10
        },
        {
          "output_type": "display_data",
          "data": {
            "image/png": "[encoded data removed]",
            "text/plain": [
              "<Figure size 432x288 with 2 Axes>"
            ]
          },
          "metadata": {
            "tags": [],
            "needs_background": "light"
          }
        }
      ]
    },
    {
      "cell_type": "code",
      "metadata": {
        "colab": {
          "base_uri": "https://localhost:8080/",
          "height": 350
        },
        "id": "79BnBBC6_ZtA",
        "outputId": "923a1500-e0e8-40ff-db81-c60cc3c6b6c6"
      },
      "source": [
        "sns.distplot(df1.CGPA)"
      ],
      "execution_count": null,
      "outputs": [
        {
          "output_type": "stream",
          "text": [
            "/usr/local/lib/python3.6/dist-packages/seaborn/distributions.py:2557: FutureWarning: `distplot` is a deprecated function and will be removed in a future version. Please adapt your code to use either `displot` (a figure-level function with similar flexibility) or `histplot` (an axes-level function for histograms).\n",
            "  warnings.warn(msg, FutureWarning)\n"
          ],
          "name": "stderr"
        },
        {
          "output_type": "execute_result",
          "data": {
            "text/plain": [
              "<matplotlib.axes._subplots.AxesSubplot at 0x7f7030dc28d0>"
            ]
          },
          "metadata": {
            "tags": []
          },
          "execution_count": 11
        },
        {
          "output_type": "display_data",
          "data": {
            "image/png": "[encoded data removed]",
            "text/plain": [
              "<Figure size 432x288 with 1 Axes>"
            ]
          },
          "metadata": {
            "tags": [],
            "needs_background": "light"
          }
        }
      ]
    },
    {
      "cell_type": "code",
      "metadata": {
        "colab": {
          "base_uri": "https://localhost:8080/",
          "height": 391
        },
        "id": "ff358inyAYIV",
        "outputId": "a5890d1c-dc58-4755-ae0a-f4626edcc169"
      },
      "source": [
        "sns.pairplot(df1,x_vars=['GRE Score', 'TOEFL Score','CGPA'], y_vars=['Chance of Admit '], height = 5,aspect = 0.8,kind = 'reg')"
      ],
      "execution_count": null,
      "outputs": [
        {
          "output_type": "execute_result",
          "data": {
            "text/plain": [
              "<seaborn.axisgrid.PairGrid at 0x7f7039ec5978>"
            ]
          },
          "metadata": {
            "tags": []
          },
          "execution_count": 12
        },
        {
          "output_type": "display_data",
          "data": {
            "image/png": "[encoded data removed]",
            "text/plain": [
              "<Figure size 864x360 with 3 Axes>"
            ]
          },
          "metadata": {
            "tags": [],
            "needs_background": "light"
          }
        }
      ]
    },
    {
      "cell_type": "markdown",
      "metadata": {
        "id": "npXFlZ7gBu2G"
      },
      "source": [
        "Creating Model"
      ]
    },
    {
      "cell_type": "code",
      "metadata": {
        "id": "EMJMo5H4BXzm"
      },
      "source": [
        "x =df1[['GRE Score', 'TOEFL Score','CGPA']]"
      ],
      "execution_count": null,
      "outputs": []
    },
    {
      "cell_type": "code",
      "metadata": {
        "id": "HnNMk_5MCHf4"
      },
      "source": [
        "y=df1[['Chance of Admit ']]"
      ],
      "execution_count": null,
      "outputs": []
    },
    {
      "cell_type": "code",
      "metadata": {
        "colab": {
          "base_uri": "https://localhost:8080/"
        },
        "id": "_K3mNa0qINSp",
        "outputId": "3e458fd6-1c5d-4c71-e5d9-d02e1ea70097"
      },
      "source": [
        "!pip uninstall scikit-learn "
      ],
      "execution_count": null,
      "outputs": [
        {
          "output_type": "stream",
          "text": [
            "Uninstalling scikit-learn-0.19.1:\n",
            "  Would remove:\n",
            "    /usr/local/lib/python3.6/dist-packages/scikit_learn-0.19.1.dist-info/*\n",
            "    /usr/local/lib/python3.6/dist-packages/sklearn/*\n",
            "Proceed (y/n)? y\n",
            "  Successfully uninstalled scikit-learn-0.19.1\n"
          ],
          "name": "stdout"
        }
      ]
    },
    {
      "cell_type": "code",
      "metadata": {
        "colab": {
          "base_uri": "https://localhost:8080/"
        },
        "id": "zjKqLXjtIYP3",
        "outputId": "d91e8423-f874-45bd-9b29-df8fa86203f8"
      },
      "source": [
        "!pip install scikit-learn==0.19.1 "
      ],
      "execution_count": null,
      "outputs": [
        {
          "output_type": "stream",
          "text": [
            "Collecting scikit-learn==0.19.1\n",
            "  Using cached https://files.pythonhosted.org/packages/3d/2d/9fbc7baa5f44bc9e88ffb7ed32721b879bfa416573e85031e16f52569bc9/scikit_learn-0.19.1-cp36-cp36m-manylinux1_x86_64.whl\n",
            "\u001b[31mERROR: yellowbrick 0.9.1 has requirement scikit-learn>=0.20, but you'll have scikit-learn 0.19.1 which is incompatible.\u001b[0m\n",
            "\u001b[31mERROR: umap-learn 0.5.0 has requirement scikit-learn>=0.22, but you'll have scikit-learn 0.19.1 which is incompatible.\u001b[0m\n",
            "\u001b[31mERROR: imbalanced-learn 0.4.3 has requirement scikit-learn>=0.20, but you'll have scikit-learn 0.19.1 which is incompatible.\u001b[0m\n",
            "Installing collected packages: scikit-learn\n",
            "Successfully installed scikit-learn-0.19.1\n"
          ],
          "name": "stdout"
        }
      ]
    },
    {
      "cell_type": "code",
      "metadata": {
        "id": "aGeWz08MCLFB"
      },
      "source": [
        "\r\n",
        "from sklearn.linear_model import LinearRegression\r\n",
        "from sklearn.model_selection import train_test_split\r\n",
        "import random"
      ],
      "execution_count": null,
      "outputs": []
    },
    {
      "cell_type": "code",
      "metadata": {
        "id": "wIyb8QLNC1P-"
      },
      "source": [
        "x_train, x_test, y_train, y_test = train_test_split(x, y, random_state =0, test_size = 0.20,train_size =0.80)"
      ],
      "execution_count": null,
      "outputs": []
    },
    {
      "cell_type": "code",
      "metadata": {
        "colab": {
          "base_uri": "https://localhost:8080/",
          "height": 402
        },
        "id": "gDzQX5eUDSsJ",
        "outputId": "60e1d1f2-babb-4009-b1cf-0f1e0d690594"
      },
      "source": [
        "x_train\r\n"
      ],
      "execution_count": null,
      "outputs": [
        {
          "output_type": "execute_result",
          "data": {
            "text/html": [
              "<div>\n",
              "<style scoped>\n",
              "    .dataframe tbody tr th:only-of-type {\n",
              "        vertical-align: middle;\n",
              "    }\n",
              "\n",
              "    .dataframe tbody tr th {\n",
              "        vertical-align: top;\n",
              "    }\n",
              "\n",
              "    .dataframe thead th {\n",
              "        text-align: right;\n",
              "    }\n",
              "</style>\n",
              "<table border=\"1\" class=\"dataframe\">\n",
              "  <thead>\n",
              "    <tr style=\"text-align: right;\">\n",
              "      <th></th>\n",
              "      <th>GRE Score</th>\n",
              "      <th>TOEFL Score</th>\n",
              "      <th>CGPA</th>\n",
              "    </tr>\n",
              "  </thead>\n",
              "  <tbody>\n",
              "    <tr>\n",
              "      <th>107</th>\n",
              "      <td>338</td>\n",
              "      <td>117</td>\n",
              "      <td>9.46</td>\n",
              "    </tr>\n",
              "    <tr>\n",
              "      <th>336</th>\n",
              "      <td>319</td>\n",
              "      <td>110</td>\n",
              "      <td>8.79</td>\n",
              "    </tr>\n",
              "    <tr>\n",
              "      <th>71</th>\n",
              "      <td>336</td>\n",
              "      <td>112</td>\n",
              "      <td>9.76</td>\n",
              "    </tr>\n",
              "    <tr>\n",
              "      <th>474</th>\n",
              "      <td>308</td>\n",
              "      <td>105</td>\n",
              "      <td>7.95</td>\n",
              "    </tr>\n",
              "    <tr>\n",
              "      <th>6</th>\n",
              "      <td>321</td>\n",
              "      <td>109</td>\n",
              "      <td>8.20</td>\n",
              "    </tr>\n",
              "    <tr>\n",
              "      <th>...</th>\n",
              "      <td>...</td>\n",
              "      <td>...</td>\n",
              "      <td>...</td>\n",
              "    </tr>\n",
              "    <tr>\n",
              "      <th>323</th>\n",
              "      <td>305</td>\n",
              "      <td>102</td>\n",
              "      <td>8.18</td>\n",
              "    </tr>\n",
              "    <tr>\n",
              "      <th>192</th>\n",
              "      <td>322</td>\n",
              "      <td>114</td>\n",
              "      <td>8.94</td>\n",
              "    </tr>\n",
              "    <tr>\n",
              "      <th>117</th>\n",
              "      <td>290</td>\n",
              "      <td>104</td>\n",
              "      <td>7.46</td>\n",
              "    </tr>\n",
              "    <tr>\n",
              "      <th>47</th>\n",
              "      <td>339</td>\n",
              "      <td>119</td>\n",
              "      <td>9.70</td>\n",
              "    </tr>\n",
              "    <tr>\n",
              "      <th>172</th>\n",
              "      <td>322</td>\n",
              "      <td>110</td>\n",
              "      <td>9.13</td>\n",
              "    </tr>\n",
              "  </tbody>\n",
              "</table>\n",
              "<p>400 rows × 3 columns</p>\n",
              "</div>"
            ],
            "text/plain": [
              "     GRE Score  TOEFL Score  CGPA\n",
              "107        338          117  9.46\n",
              "336        319          110  8.79\n",
              "71         336          112  9.76\n",
              "474        308          105  7.95\n",
              "6          321          109  8.20\n",
              "..         ...          ...   ...\n",
              "323        305          102  8.18\n",
              "192        322          114  8.94\n",
              "117        290          104  7.46\n",
              "47         339          119  9.70\n",
              "172        322          110  9.13\n",
              "\n",
              "[400 rows x 3 columns]"
            ]
          },
          "metadata": {
            "tags": []
          },
          "execution_count": 48
        }
      ]
    },
    {
      "cell_type": "code",
      "metadata": {
        "colab": {
          "base_uri": "https://localhost:8080/",
          "height": 402
        },
        "id": "CsV1EPK_EBWQ",
        "outputId": "5b10aa50-bc61-4df7-96ec-aa8e70039f97"
      },
      "source": [
        "x_test"
      ],
      "execution_count": null,
      "outputs": [
        {
          "output_type": "execute_result",
          "data": {
            "text/html": [
              "<div>\n",
              "<style scoped>\n",
              "    .dataframe tbody tr th:only-of-type {\n",
              "        vertical-align: middle;\n",
              "    }\n",
              "\n",
              "    .dataframe tbody tr th {\n",
              "        vertical-align: top;\n",
              "    }\n",
              "\n",
              "    .dataframe thead th {\n",
              "        text-align: right;\n",
              "    }\n",
              "</style>\n",
              "<table border=\"1\" class=\"dataframe\">\n",
              "  <thead>\n",
              "    <tr style=\"text-align: right;\">\n",
              "      <th></th>\n",
              "      <th>GRE Score</th>\n",
              "      <th>TOEFL Score</th>\n",
              "      <th>CGPA</th>\n",
              "    </tr>\n",
              "  </thead>\n",
              "  <tbody>\n",
              "    <tr>\n",
              "      <th>90</th>\n",
              "      <td>318</td>\n",
              "      <td>106</td>\n",
              "      <td>7.92</td>\n",
              "    </tr>\n",
              "    <tr>\n",
              "      <th>254</th>\n",
              "      <td>321</td>\n",
              "      <td>114</td>\n",
              "      <td>9.12</td>\n",
              "    </tr>\n",
              "    <tr>\n",
              "      <th>283</th>\n",
              "      <td>321</td>\n",
              "      <td>111</td>\n",
              "      <td>8.90</td>\n",
              "    </tr>\n",
              "    <tr>\n",
              "      <th>445</th>\n",
              "      <td>328</td>\n",
              "      <td>116</td>\n",
              "      <td>9.08</td>\n",
              "    </tr>\n",
              "    <tr>\n",
              "      <th>461</th>\n",
              "      <td>301</td>\n",
              "      <td>102</td>\n",
              "      <td>8.13</td>\n",
              "    </tr>\n",
              "    <tr>\n",
              "      <th>...</th>\n",
              "      <td>...</td>\n",
              "      <td>...</td>\n",
              "      <td>...</td>\n",
              "    </tr>\n",
              "    <tr>\n",
              "      <th>372</th>\n",
              "      <td>336</td>\n",
              "      <td>119</td>\n",
              "      <td>9.62</td>\n",
              "    </tr>\n",
              "    <tr>\n",
              "      <th>56</th>\n",
              "      <td>316</td>\n",
              "      <td>102</td>\n",
              "      <td>7.40</td>\n",
              "    </tr>\n",
              "    <tr>\n",
              "      <th>440</th>\n",
              "      <td>305</td>\n",
              "      <td>104</td>\n",
              "      <td>7.79</td>\n",
              "    </tr>\n",
              "    <tr>\n",
              "      <th>60</th>\n",
              "      <td>309</td>\n",
              "      <td>100</td>\n",
              "      <td>8.10</td>\n",
              "    </tr>\n",
              "    <tr>\n",
              "      <th>208</th>\n",
              "      <td>305</td>\n",
              "      <td>106</td>\n",
              "      <td>8.16</td>\n",
              "    </tr>\n",
              "  </tbody>\n",
              "</table>\n",
              "<p>100 rows × 3 columns</p>\n",
              "</div>"
            ],
            "text/plain": [
              "     GRE Score  TOEFL Score  CGPA\n",
              "90         318          106  7.92\n",
              "254        321          114  9.12\n",
              "283        321          111  8.90\n",
              "445        328          116  9.08\n",
              "461        301          102  8.13\n",
              "..         ...          ...   ...\n",
              "372        336          119  9.62\n",
              "56         316          102  7.40\n",
              "440        305          104  7.79\n",
              "60         309          100  8.10\n",
              "208        305          106  8.16\n",
              "\n",
              "[100 rows x 3 columns]"
            ]
          },
          "metadata": {
            "tags": []
          },
          "execution_count": 49
        }
      ]
    },
    {
      "cell_type": "markdown",
      "metadata": {
        "id": "5n3NdCWdKJK-"
      },
      "source": [
        "Training the model"
      ]
    },
    {
      "cell_type": "code",
      "metadata": {
        "colab": {
          "base_uri": "https://localhost:8080/"
        },
        "id": "6upjYEYAJHAm",
        "outputId": "aa610fa5-e6a6-4085-d28d-a876a81f9fcb"
      },
      "source": [
        "linreg = LinearRegression()\r\n",
        "linreg.fit(x_train,y_train)"
      ],
      "execution_count": null,
      "outputs": [
        {
          "output_type": "execute_result",
          "data": {
            "text/plain": [
              "LinearRegression(copy_X=True, fit_intercept=True, n_jobs=1, normalize=False)"
            ]
          },
          "metadata": {
            "tags": []
          },
          "execution_count": 50
        }
      ]
    },
    {
      "cell_type": "markdown",
      "metadata": {
        "id": "O00ChNiaKcyv"
      },
      "source": [
        "Testing and Evaluating the model"
      ]
    },
    {
      "cell_type": "code",
      "metadata": {
        "id": "L3LoZo6QKaZg"
      },
      "source": [
        "y_pred = linreg.predict(x_test)"
      ],
      "execution_count": null,
      "outputs": []
    },
    {
      "cell_type": "code",
      "metadata": {
        "colab": {
          "base_uri": "https://localhost:8080/"
        },
        "id": "dGNgqqNXKmMy",
        "outputId": "a8a72d95-73f9-43f2-f779-d94225ec54b6"
      },
      "source": [
        "y_pred[:7]"
      ],
      "execution_count": null,
      "outputs": [
        {
          "output_type": "execute_result",
          "data": {
            "text/plain": [
              "array([[0.62802152],\n",
              "       [0.83209435],\n",
              "       [0.79119818],\n",
              "       [0.85046086],\n",
              "       [0.60222891],\n",
              "       [0.66888863],\n",
              "       [0.55297329]])"
            ]
          },
          "metadata": {
            "tags": []
          },
          "execution_count": 54
        }
      ]
    },
    {
      "cell_type": "code",
      "metadata": {
        "colab": {
          "base_uri": "https://localhost:8080/",
          "height": 195
        },
        "id": "vwz1tV7WKwfL",
        "outputId": "5ffa388e-9def-40ed-8fcd-8403039d1d80"
      },
      "source": [
        "y_test.head()"
      ],
      "execution_count": null,
      "outputs": [
        {
          "output_type": "execute_result",
          "data": {
            "text/html": [
              "<div>\n",
              "<style scoped>\n",
              "    .dataframe tbody tr th:only-of-type {\n",
              "        vertical-align: middle;\n",
              "    }\n",
              "\n",
              "    .dataframe tbody tr th {\n",
              "        vertical-align: top;\n",
              "    }\n",
              "\n",
              "    .dataframe thead th {\n",
              "        text-align: right;\n",
              "    }\n",
              "</style>\n",
              "<table border=\"1\" class=\"dataframe\">\n",
              "  <thead>\n",
              "    <tr style=\"text-align: right;\">\n",
              "      <th></th>\n",
              "      <th>Chance of Admit</th>\n",
              "    </tr>\n",
              "  </thead>\n",
              "  <tbody>\n",
              "    <tr>\n",
              "      <th>90</th>\n",
              "      <td>0.64</td>\n",
              "    </tr>\n",
              "    <tr>\n",
              "      <th>254</th>\n",
              "      <td>0.85</td>\n",
              "    </tr>\n",
              "    <tr>\n",
              "      <th>283</th>\n",
              "      <td>0.80</td>\n",
              "    </tr>\n",
              "    <tr>\n",
              "      <th>445</th>\n",
              "      <td>0.91</td>\n",
              "    </tr>\n",
              "    <tr>\n",
              "      <th>461</th>\n",
              "      <td>0.68</td>\n",
              "    </tr>\n",
              "  </tbody>\n",
              "</table>\n",
              "</div>"
            ],
            "text/plain": [
              "     Chance of Admit \n",
              "90               0.64\n",
              "254              0.85\n",
              "283              0.80\n",
              "445              0.91\n",
              "461              0.68"
            ]
          },
          "metadata": {
            "tags": []
          },
          "execution_count": 55
        }
      ]
    },
    {
      "cell_type": "markdown",
      "metadata": {
        "id": "gCH99ZEjLbmn"
      },
      "source": [
        "Error"
      ]
    },
    {
      "cell_type": "code",
      "metadata": {
        "colab": {
          "base_uri": "https://localhost:8080/"
        },
        "id": "aQRB6ZvwK4k5",
        "outputId": "a6864ddc-df97-43f4-ac99-c08510e1871c"
      },
      "source": [
        "from sklearn import metrics\r\n",
        "print(metrics.mean_absolute_error(y_test,y_pred))"
      ],
      "execution_count": null,
      "outputs": [
        {
          "output_type": "stream",
          "text": [
            "0.04688621359385721\n"
          ],
          "name": "stdout"
        }
      ]
    },
    {
      "cell_type": "code",
      "metadata": {
        "id": "JznLvvOrLSG4"
      },
      "source": [
        ""
      ],
      "execution_count": null,
      "outputs": []
    }
  ]
}